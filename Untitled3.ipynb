{
 "cells": [
  {
   "cell_type": "code",
   "execution_count": 16,
   "metadata": {},
   "outputs": [
    {
     "data": {
      "image/png": "[encoded data removed]",
      "text/plain": [
       "<Figure size 432x288 with 1 Axes>"
      ]
     },
     "metadata": {
      "needs_background": "light"
     },
     "output_type": "display_data"
    }
   ],
   "source": [
    "import numpy as nm\n",
    "#import pandas as pd\n",
    "import matplotlib.pyplot as plt\n",
    "\n",
    "hits_data = pd.read_csv(\"/Users/marouankouissi/Desktop/Data_science/top_50_hits_spotify.csv\",  encoding=\"ISO-8859-1\")\n",
    "hits_data = hits_data[hits_data['Popularity']>70]\n",
    "\n",
    "plt.plot(hits_data['Danceability'], hits_data['Popularity'], 'ro', color = 'blue', markersize=5)\n",
    "plt.xlabel(\"Danceability\")\n",
    "plt.ylabel(\"Popularity\")\n",
    "plt.show()"
   ]
  },
  {
   "cell_type": "code",
   "execution_count": 17,
   "metadata": {},
   "outputs": [
    {
     "name": "stdout",
     "output_type": "stream",
     "text": [
      "   Unnamed: 0                       Track.Name    Artist.Name           Genre  \\\n",
      "0           1                         Señorita   Shawn Mendes    canadian pop   \n",
      "1           2                            China       Anuel AA  reggaeton flow   \n",
      "2           3    boyfriend (with Social House)  Ariana Grande       dance pop   \n",
      "3           4  Beautiful People (feat. Khalid)     Ed Sheeran             pop   \n",
      "4           5      Goodbyes (Feat. Young Thug)    Post Malone         dfw rap   \n",
      "\n",
      "   Beats.Per.Minute  Energy  Danceability  Loudness..dB..  Liveness  Valence.  \\\n",
      "0               117      55            76              -6         8        75   \n",
      "1               105      81            79              -4         8        61   \n",
      "2               190      80            40              -4        16        70   \n",
      "3                93      65            64              -8         8        55   \n",
      "4               150      65            58              -4        11        18   \n",
      "\n",
      "   Length.  Acousticness..  Speechiness.  Popularity  \n",
      "0      191               4             3          79  \n",
      "1      302               8             9          92  \n",
      "2      186              12            46          85  \n",
      "3      198              12            19          86  \n",
      "4      175              45             7          94  \n"
     ]
    }
   ],
   "source": [
    "print(hits_data.head())"
   ]
  },
  {
   "cell_type": "code",
   "execution_count": 18,
   "metadata": {},
   "outputs": [
    {
     "data": {
      "text/html": [
       "<div>\n",
       "<style scoped>\n",
       "    .dataframe tbody tr th:only-of-type {\n",
       "        vertical-align: middle;\n",
       "    }\n",
       "\n",
       "    .dataframe tbody tr th {\n",
       "        vertical-align: top;\n",
       "    }\n",
       "\n",
       "    .dataframe thead th {\n",
       "        text-align: right;\n",
       "    }\n",
       "</style>\n",
       "<table border=\"1\" class=\"dataframe\">\n",
       "  <thead>\n",
       "    <tr style=\"text-align: right;\">\n",
       "      <th></th>\n",
       "      <th>Unnamed: 0</th>\n",
       "      <th>Track.Name</th>\n",
       "      <th>Artist.Name</th>\n",
       "      <th>Genre</th>\n",
       "      <th>Beats.Per.Minute</th>\n",
       "      <th>Energy</th>\n",
       "      <th>Danceability</th>\n",
       "      <th>Loudness..dB..</th>\n",
       "      <th>Liveness</th>\n",
       "      <th>Valence.</th>\n",
       "      <th>Length.</th>\n",
       "      <th>Acousticness..</th>\n",
       "      <th>Speechiness.</th>\n",
       "      <th>Popularity</th>\n",
       "    </tr>\n",
       "  </thead>\n",
       "  <tbody>\n",
       "    <tr>\n",
       "      <td>0</td>\n",
       "      <td>1</td>\n",
       "      <td>Señorita</td>\n",
       "      <td>Shawn Mendes</td>\n",
       "      <td>canadian pop</td>\n",
       "      <td>117</td>\n",
       "      <td>55</td>\n",
       "      <td>76</td>\n",
       "      <td>-6</td>\n",
       "      <td>8</td>\n",
       "      <td>75</td>\n",
       "      <td>191</td>\n",
       "      <td>4</td>\n",
       "      <td>3</td>\n",
       "      <td>79</td>\n",
       "    </tr>\n",
       "    <tr>\n",
       "      <td>1</td>\n",
       "      <td>2</td>\n",
       "      <td>China</td>\n",
       "      <td>Anuel AA</td>\n",
       "      <td>reggaeton flow</td>\n",
       "      <td>105</td>\n",
       "      <td>81</td>\n",
       "      <td>79</td>\n",
       "      <td>-4</td>\n",
       "      <td>8</td>\n",
       "      <td>61</td>\n",
       "      <td>302</td>\n",
       "      <td>8</td>\n",
       "      <td>9</td>\n",
       "      <td>92</td>\n",
       "    </tr>\n",
       "    <tr>\n",
       "      <td>2</td>\n",
       "      <td>3</td>\n",
       "      <td>boyfriend (with Social House)</td>\n",
       "      <td>Ariana Grande</td>\n",
       "      <td>dance pop</td>\n",
       "      <td>190</td>\n",
       "      <td>80</td>\n",
       "      <td>40</td>\n",
       "      <td>-4</td>\n",
       "      <td>16</td>\n",
       "      <td>70</td>\n",
       "      <td>186</td>\n",
       "      <td>12</td>\n",
       "      <td>46</td>\n",
       "      <td>85</td>\n",
       "    </tr>\n",
       "    <tr>\n",
       "      <td>3</td>\n",
       "      <td>4</td>\n",
       "      <td>Beautiful People (feat. Khalid)</td>\n",
       "      <td>Ed Sheeran</td>\n",
       "      <td>pop</td>\n",
       "      <td>93</td>\n",
       "      <td>65</td>\n",
       "      <td>64</td>\n",
       "      <td>-8</td>\n",
       "      <td>8</td>\n",
       "      <td>55</td>\n",
       "      <td>198</td>\n",
       "      <td>12</td>\n",
       "      <td>19</td>\n",
       "      <td>86</td>\n",
       "    </tr>\n",
       "    <tr>\n",
       "      <td>4</td>\n",
       "      <td>5</td>\n",
       "      <td>Goodbyes (Feat. Young Thug)</td>\n",
       "      <td>Post Malone</td>\n",
       "      <td>dfw rap</td>\n",
       "      <td>150</td>\n",
       "      <td>65</td>\n",
       "      <td>58</td>\n",
       "      <td>-4</td>\n",
       "      <td>11</td>\n",
       "      <td>18</td>\n",
       "      <td>175</td>\n",
       "      <td>45</td>\n",
       "      <td>7</td>\n",
       "      <td>94</td>\n",
       "    </tr>\n",
       "  </tbody>\n",
       "</table>\n",
       "</div>"
      ],
      "text/plain": [
       "   Unnamed: 0                       Track.Name    Artist.Name           Genre  \\\n",
       "0           1                         Señorita   Shawn Mendes    canadian pop   \n",
       "1           2                            China       Anuel AA  reggaeton flow   \n",
       "2           3    boyfriend (with Social House)  Ariana Grande       dance pop   \n",
       "3           4  Beautiful People (feat. Khalid)     Ed Sheeran             pop   \n",
       "4           5      Goodbyes (Feat. Young Thug)    Post Malone         dfw rap   \n",
       "\n",
       "   Beats.Per.Minute  Energy  Danceability  Loudness..dB..  Liveness  Valence.  \\\n",
       "0               117      55            76              -6         8        75   \n",
       "1               105      81            79              -4         8        61   \n",
       "2               190      80            40              -4        16        70   \n",
       "3                93      65            64              -8         8        55   \n",
       "4               150      65            58              -4        11        18   \n",
       "\n",
       "   Length.  Acousticness..  Speechiness.  Popularity  \n",
       "0      191               4             3          79  \n",
       "1      302               8             9          92  \n",
       "2      186              12            46          85  \n",
       "3      198              12            19          86  \n",
       "4      175              45             7          94  "
      ]
     },
     "execution_count": 18,
     "metadata": {},
     "output_type": "execute_result"
    }
   ],
   "source": [
    "hits_data.head()"
   ]
  },
  {
   "cell_type": "code",
   "execution_count": 19,
   "metadata": {},
   "outputs": [],
   "source": [
    "sorted_hits = hits_data.sort_values('Popularity', ascending = False);"
   ]
  },
  {
   "cell_type": "code",
   "execution_count": 20,
   "metadata": {},
   "outputs": [
    {
     "data": {
      "text/html": [
       "<div>\n",
       "<style scoped>\n",
       "    .dataframe tbody tr th:only-of-type {\n",
       "        vertical-align: middle;\n",
       "    }\n",
       "\n",
       "    .dataframe tbody tr th {\n",
       "        vertical-align: top;\n",
       "    }\n",
       "\n",
       "    .dataframe thead th {\n",
       "        text-align: right;\n",
       "    }\n",
       "</style>\n",
       "<table border=\"1\" class=\"dataframe\">\n",
       "  <thead>\n",
       "    <tr style=\"text-align: right;\">\n",
       "      <th></th>\n",
       "      <th>Unnamed: 0</th>\n",
       "      <th>Track.Name</th>\n",
       "      <th>Artist.Name</th>\n",
       "      <th>Genre</th>\n",
       "      <th>Beats.Per.Minute</th>\n",
       "      <th>Energy</th>\n",
       "      <th>Danceability</th>\n",
       "      <th>Loudness..dB..</th>\n",
       "      <th>Liveness</th>\n",
       "      <th>Valence.</th>\n",
       "      <th>Length.</th>\n",
       "      <th>Acousticness..</th>\n",
       "      <th>Speechiness.</th>\n",
       "      <th>Popularity</th>\n",
       "    </tr>\n",
       "  </thead>\n",
       "  <tbody>\n",
       "    <tr>\n",
       "      <td>9</td>\n",
       "      <td>10</td>\n",
       "      <td>bad guy</td>\n",
       "      <td>Billie Eilish</td>\n",
       "      <td>electropop</td>\n",
       "      <td>135</td>\n",
       "      <td>43</td>\n",
       "      <td>70</td>\n",
       "      <td>-11</td>\n",
       "      <td>10</td>\n",
       "      <td>56</td>\n",
       "      <td>194</td>\n",
       "      <td>33</td>\n",
       "      <td>38</td>\n",
       "      <td>95</td>\n",
       "    </tr>\n",
       "    <tr>\n",
       "      <td>4</td>\n",
       "      <td>5</td>\n",
       "      <td>Goodbyes (Feat. Young Thug)</td>\n",
       "      <td>Post Malone</td>\n",
       "      <td>dfw rap</td>\n",
       "      <td>150</td>\n",
       "      <td>65</td>\n",
       "      <td>58</td>\n",
       "      <td>-4</td>\n",
       "      <td>11</td>\n",
       "      <td>18</td>\n",
       "      <td>175</td>\n",
       "      <td>45</td>\n",
       "      <td>7</td>\n",
       "      <td>94</td>\n",
       "    </tr>\n",
       "    <tr>\n",
       "      <td>10</td>\n",
       "      <td>11</td>\n",
       "      <td>Callaita</td>\n",
       "      <td>Bad Bunny</td>\n",
       "      <td>reggaeton</td>\n",
       "      <td>176</td>\n",
       "      <td>62</td>\n",
       "      <td>61</td>\n",
       "      <td>-5</td>\n",
       "      <td>24</td>\n",
       "      <td>24</td>\n",
       "      <td>251</td>\n",
       "      <td>60</td>\n",
       "      <td>31</td>\n",
       "      <td>93</td>\n",
       "    </tr>\n",
       "    <tr>\n",
       "      <td>1</td>\n",
       "      <td>2</td>\n",
       "      <td>China</td>\n",
       "      <td>Anuel AA</td>\n",
       "      <td>reggaeton flow</td>\n",
       "      <td>105</td>\n",
       "      <td>81</td>\n",
       "      <td>79</td>\n",
       "      <td>-4</td>\n",
       "      <td>8</td>\n",
       "      <td>61</td>\n",
       "      <td>302</td>\n",
       "      <td>8</td>\n",
       "      <td>9</td>\n",
       "      <td>92</td>\n",
       "    </tr>\n",
       "    <tr>\n",
       "      <td>6</td>\n",
       "      <td>7</td>\n",
       "      <td>Ransom</td>\n",
       "      <td>Lil Tecca</td>\n",
       "      <td>trap music</td>\n",
       "      <td>180</td>\n",
       "      <td>64</td>\n",
       "      <td>75</td>\n",
       "      <td>-6</td>\n",
       "      <td>7</td>\n",
       "      <td>23</td>\n",
       "      <td>131</td>\n",
       "      <td>2</td>\n",
       "      <td>29</td>\n",
       "      <td>92</td>\n",
       "    </tr>\n",
       "  </tbody>\n",
       "</table>\n",
       "</div>"
      ],
      "text/plain": [
       "    Unnamed: 0                   Track.Name    Artist.Name           Genre  \\\n",
       "9           10                      bad guy  Billie Eilish      electropop   \n",
       "4            5  Goodbyes (Feat. Young Thug)    Post Malone         dfw rap   \n",
       "10          11                     Callaita      Bad Bunny       reggaeton   \n",
       "1            2                        China       Anuel AA  reggaeton flow   \n",
       "6            7                       Ransom      Lil Tecca      trap music   \n",
       "\n",
       "    Beats.Per.Minute  Energy  Danceability  Loudness..dB..  Liveness  \\\n",
       "9                135      43            70             -11        10   \n",
       "4                150      65            58              -4        11   \n",
       "10               176      62            61              -5        24   \n",
       "1                105      81            79              -4         8   \n",
       "6                180      64            75              -6         7   \n",
       "\n",
       "    Valence.  Length.  Acousticness..  Speechiness.  Popularity  \n",
       "9         56      194              33            38          95  \n",
       "4         18      175              45             7          94  \n",
       "10        24      251              60            31          93  \n",
       "1         61      302               8             9          92  \n",
       "6         23      131               2            29          92  "
      ]
     },
     "execution_count": 20,
     "metadata": {},
     "output_type": "execute_result"
    }
   ],
   "source": [
    "sorted_hits.head()"
   ]
  },
  {
   "cell_type": "code",
   "execution_count": 21,
   "metadata": {},
   "outputs": [
    {
     "name": "stdout",
     "output_type": "stream",
     "text": [
      "Counter({'dance pop': 8, 'pop': 7, 'latin': 5, 'canadian hip hop': 3, 'edm': 3, 'reggaeton flow': 2, 'dfw rap': 2, 'country rap': 2, 'electropop': 2, 'reggaeton': 2, 'panamanian pop': 2, 'brostep': 2, 'canadian pop': 1, 'trap music': 1, 'escape room': 1, 'pop house': 1, 'australian pop': 1, 'atl hip hop': 1, 'big room': 1, 'boy band': 1, 'r&b en espanol': 1})\n"
     ]
    }
   ],
   "source": [
    "from collections import Counter \n",
    "print(Counter(hits_data['Genre'].values))"
   ]
  },
  {
   "cell_type": "code",
   "execution_count": 22,
   "metadata": {},
   "outputs": [
    {
     "data": {
      "text/plain": [
       "Unnamed: 0          49\n",
       "Track.Name          49\n",
       "Artist.Name         49\n",
       "Genre               49\n",
       "Beats.Per.Minute    49\n",
       "Energy              49\n",
       "Danceability        49\n",
       "Loudness..dB..      49\n",
       "Liveness            49\n",
       "Valence.            49\n",
       "Length.             49\n",
       "Acousticness..      49\n",
       "Speechiness.        49\n",
       "Popularity          49\n",
       "dtype: int64"
      ]
     },
     "execution_count": 22,
     "metadata": {},
     "output_type": "execute_result"
    }
   ],
   "source": [
    "hits_data.count()"
   ]
  },
  {
   "cell_type": "code",
   "execution_count": 23,
   "metadata": {},
   "outputs": [],
   "source": [
    "ranking = Counter(hits_data['Genre']).most_common(3)"
   ]
  },
  {
   "cell_type": "code",
   "execution_count": 24,
   "metadata": {},
   "outputs": [],
   "source": [
    "X, Y = zip(*(ranking))"
   ]
  },
  {
   "cell_type": "code",
   "execution_count": 25,
   "metadata": {},
   "outputs": [
    {
     "data": {
      "text/plain": [
       "[('dance pop', 8), ('pop', 7), ('latin', 5)]"
      ]
     },
     "execution_count": 25,
     "metadata": {},
     "output_type": "execute_result"
    }
   ],
   "source": [
    "ranking"
   ]
  },
  {
   "cell_type": "code",
   "execution_count": 42,
   "metadata": {},
   "outputs": [
    {
     "data": {
      "text/plain": [
       "('latin', 'pop', 'dance pop')"
      ]
     },
     "execution_count": 42,
     "metadata": {},
     "output_type": "execute_result"
    }
   ],
   "source": [
    "X[::-1]"
   ]
  },
  {
   "cell_type": "code",
   "execution_count": 36,
   "metadata": {},
   "outputs": [
    {
     "data": {
      "text/plain": [
       "(7, 7, 5)"
      ]
     },
     "execution_count": 36,
     "metadata": {},
     "output_type": "execute_result"
    }
   ],
   "source": [
    "Y"
   ]
  },
  {
   "cell_type": "code",
   "execution_count": 82,
   "metadata": {},
   "outputs": [
    {
     "data": {
      "text/plain": [
       "<BarContainer object of 3 artists>"
      ]
     },
     "execution_count": 82,
     "metadata": {},
     "output_type": "execute_result"
    },
    {
     "data": {
      "image/png": "[encoded data removed]",
      "text/plain": [
       "<Figure size 460.8x345.6 with 1 Axes>"
      ]
     },
     "metadata": {
      "needs_background": "light"
     },
     "output_type": "display_data"
    }
   ],
   "source": [
    "plt.barh(X[::-1],Y[::-1], color = \"red\")"
   ]
  },
  {
   "cell_type": "code",
   "execution_count": 41,
   "metadata": {},
   "outputs": [
    {
     "data": {
      "text/plain": [
       "tuple"
      ]
     },
     "execution_count": 41,
     "metadata": {},
     "output_type": "execute_result"
    }
   ],
   "source": [
    "type(X)"
   ]
  },
  {
   "cell_type": "code",
   "execution_count": 27,
   "metadata": {},
   "outputs": [],
   "source": [
    "ranking_artist = Counter(hits_data['Artist.Name']).most_common();"
   ]
  },
  {
   "cell_type": "code",
   "execution_count": 70,
   "metadata": {},
   "outputs": [
    {
     "data": {
      "text/plain": [
       "[('Ed Sheeran', 4),\n",
       " ('Ariana Grande', 2),\n",
       " ('Post Malone', 2),\n",
       " ('Lil Nas X', 2),\n",
       " ('Billie Eilish', 2),\n",
       " ('Sech', 2),\n",
       " ('J Balvin', 2),\n",
       " ('The Chainsmokers', 2),\n",
       " ('Marshmello', 2),\n",
       " ('Anuel AA', 1),\n",
       " ('Lil Tecca', 1),\n",
       " ('Sam Smith', 1),\n",
       " ('Bad Bunny', 1),\n",
       " ('DJ Snake', 1),\n",
       " ('Lewis Capaldi', 1),\n",
       " ('Drake', 1),\n",
       " ('Chris Brown', 1),\n",
       " ('Y2K', 1),\n",
       " ('Lizzo', 1),\n",
       " ('MEDUZA', 1),\n",
       " ('Jhay Cortez', 1),\n",
       " ('Lunay', 1),\n",
       " ('Tones and I', 1),\n",
       " ('Ali Gatie', 1),\n",
       " ('Daddy Yankee', 1),\n",
       " ('Maluma', 1),\n",
       " ('Young Thug', 1),\n",
       " ('Katy Perry', 1),\n",
       " ('Martin Garrix', 1),\n",
       " ('Kygo', 1),\n",
       " ('Taylor Swift', 1),\n",
       " ('Lady Gaga', 1),\n",
       " ('Khalid', 1),\n",
       " ('ROSALÍA', 1),\n",
       " ('Nicky Jam', 1)]"
      ]
     },
     "execution_count": 70,
     "metadata": {},
     "output_type": "execute_result"
    }
   ],
   "source": [
    "ranking_artist"
   ]
  },
  {
   "cell_type": "code",
   "execution_count": 29,
   "metadata": {},
   "outputs": [],
   "source": [
    "W, Z = zip(*ranking_artist);"
   ]
  },
  {
   "cell_type": "code",
   "execution_count": 32,
   "metadata": {},
   "outputs": [
    {
     "data": {
      "text/plain": [
       "([<matplotlib.axis.XTick at 0x118c6b610>,\n",
       "  <matplotlib.axis.XTick at 0x118e7ce10>,\n",
       "  <matplotlib.axis.XTick at 0x118e7cb50>,\n",
       "  <matplotlib.axis.XTick at 0x118f13250>,\n",
       "  <matplotlib.axis.XTick at 0x118f13850>],\n",
       " <a list of 5 Text xticklabel objects>)"
      ]
     },
     "execution_count": 32,
     "metadata": {},
     "output_type": "execute_result"
    },
    {
     "data": {
      "image/png": "[encoded data removed]",
      "text/plain": [
       "<Figure size 360x576 with 1 Axes>"
      ]
     },
     "metadata": {
      "needs_background": "light"
     },
     "output_type": "display_data"
    }
   ],
   "source": [
    "plt.barh(W[::-1],Z[::-1])\n",
    "plt.xlabel('Number of tracks')\n",
    "plt.Text(5, 1, 'Number of tracks')\n",
    "plt.xticks(range(0,5))"
   ]
  },
  {
   "cell_type": "code",
   "execution_count": 76,
   "metadata": {},
   "outputs": [],
   "source": [
    "plt.rcParams['figure.figsize'] = [6.4, 4.8]"
   ]
  },
  {
   "cell_type": "code",
   "execution_count": 78,
   "metadata": {},
   "outputs": [
    {
     "data": {
      "image/png": "[encoded data removed]",
      "text/plain": [
       "<Figure size 460.8x345.6 with 1 Axes>"
      ]
     },
     "metadata": {
      "needs_background": "light"
     },
     "output_type": "display_data"
    }
   ],
   "source": [
    "plt.plot(hits_data['Speechiness.'], hits_data['Popularity'], 'ro', color = 'blue', markersize=5)\n",
    "plt.xlabel(\"Speechiness\")\n",
    "plt.ylabel(\"Popularity\")\n",
    "plt.show()"
   ]
  },
  {
   "cell_type": "code",
   "execution_count": 79,
   "metadata": {},
   "outputs": [
    {
     "data": {
      "image/png": "[encoded data removed]",
      "text/plain": [
       "<Figure size 460.8x345.6 with 1 Axes>"
      ]
     },
     "metadata": {
      "needs_background": "light"
     },
     "output_type": "display_data"
    }
   ],
   "source": [
    "plt.plot(hits_data['Energy'], hits_data['Popularity'], 'ro', color = 'blue', markersize=5)\n",
    "plt.xlabel(\"Energy\")\n",
    "plt.ylabel(\"Popularity\")\n",
    "plt.show()"
   ]
  },
  {
   "cell_type": "code",
   "execution_count": 80,
   "metadata": {},
   "outputs": [
    {
     "data": {
      "image/png": "[encoded data removed]",
      "text/plain": [
       "<Figure size 460.8x345.6 with 1 Axes>"
      ]
     },
     "metadata": {
      "needs_background": "light"
     },
     "output_type": "display_data"
    }
   ],
   "source": [
    "plt.plot(hits_data[\"Valence.\"], hits_data['Popularity'], 'ro', color = 'blue', markersize=5)\n",
    "plt.xlabel(\"Valence.\")\n",
    "plt.ylabel(\"Popularity\")\n",
    "plt.show()"
   ]
  },
  {
   "cell_type": "code",
   "execution_count": 10,
   "metadata": {},
   "outputs": [
    {
     "data": {
      "image/png": "[encoded data removed]",
      "text/plain": [
       "<Figure size 432x288 with 1 Axes>"
      ]
     },
     "metadata": {
      "needs_background": "light"
     },
     "output_type": "display_data"
    }
   ],
   "source": [
    "plt.plot(hits_data[\"Popularity\"], hits_data['Popularity'], 'ro', color = 'blue', markersize=5)\n",
    "plt.xlabel(\"Popularity\")\n",
    "plt.ylabel(\"Popularity\")\n",
    "plt.show()"
   ]
  },
  {
   "cell_type": "code",
   "execution_count": null,
   "metadata": {},
   "outputs": [],
   "source": []
  }
 ],
 "metadata": {
  "kernelspec": {
   "display_name": "Python 3",
   "language": "python",
   "name": "python3"
  },
  "language_info": {
   "codemirror_mode": {
    "name": "ipython",
    "version": 3
   },
   "file_extension": ".py",
   "mimetype": "text/x-python",
   "name": "python",
   "nbconvert_exporter": "python",
   "pygments_lexer": "ipython3",
   "version": "3.7.4"
  }
 },
 "nbformat": 4,
 "nbformat_minor": 4
}
